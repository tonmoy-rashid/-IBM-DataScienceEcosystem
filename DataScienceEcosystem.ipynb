{
 "cells": [
  {
   "cell_type": "markdown",
   "id": "250e3433-fe04-48b3-8a3f-dd48ac3cc922",
   "metadata": {},
   "source": [
    "## Data Science Tools and Ecosystem \n",
    "In this notebook, Data Science Tools and Ecosystem are summarized."
   ]
  },
  {
   "metadata": {
    "jupyter": {
     "is_executing": true
    }
   },
   "cell_type": "code",
   "source": "",
   "id": "84c8f69bf17f7b86",
   "outputs": [],
   "execution_count": null
  },
  {
   "cell_type": "markdown",
   "id": "eb0b2913-b7bb-4cd2-9ee5-d58b15505a36",
   "metadata": {},
   "source": [
    "Some of the popular languages that Data Scientists use are: \n",
    "1. **Python**: Widely used for its simplicity and extensive libraries like Pandas, NumPy, and Scikit-Learn.\n",
    "2. **R**: Popular in academia and among statisticians for its robust statistical analysis capabilities.\n",
    "3. **SQL**: Essential for database querying and managing large datasets.\n",
    "4. **Julia**: Known for its high performance, particularly in numerical and scientific computing.\n",
    "5. **Java**: Often used for large-scale data processing and enterprise-level data science applications. "
   ]
  },
  {
   "cell_type": "markdown",
   "id": "b0338272-b520-45f2-8593-1dc996427423",
   "metadata": {},
   "source": [
    "Some of the commonly used libraries used by Data Scientists include:\n",
    "\n",
    "1. **Pandas**: For data manipulation and analysis.\n",
    "2. **NumPy**: For numerical computing and working with arrays.\n",
    "3. **Scikit-Learn**: For machine learning and predictive modeling.\n",
    "4. **Matplotlib**: For creating static, animated, and interactive visualizations.\n",
    "5. **TensorFlow**: For deep learning and neural networks.\n",
    "6. **Seaborn**: For statistical data visualization based on Matplotlib.\n",
    "7. **Statsmodels**: For estimating and interpreting statistical models.\n"
   ]
  },
  {
   "cell_type": "markdown",
   "id": "c2f6ac6e-2a95-4e2a-8867-36d72b899443",
   "metadata": {},
   "source": [
    "Data Science Tools:\n",
    "\n",
    "<table style=\"width:100%\">\n",
    "  <tr>\n",
    "    <th>Data Science Tools</th>\n",
    "    <th></th>\n",
    "    <th></th>\n",
    "  </tr>\n",
    "  <tr>\n",
    "    <td>SAS. It is one of those data science tools which are specifically designed for statistical operation</td>\n",
    "    <td></td>\n",
    "    <td></td>\n",
    "  </tr>\n",
    "  <tr>\n",
    "    <td>Apache Spark</td>\n",
    "    <td></td>\n",
    "    <td></td>\n",
    "  </tr>\n",
    "  <tr>\n",
    "    <td>BigML</td>\n",
    "    <td></td>\n",
    "    <td></td>\n",
    "  </tr>\n",
    "</table>"
   ]
  },
  {
   "cell_type": "markdown",
   "id": "dd5ddb80-7c61-4609-9fea-039428648e10",
   "metadata": {},
   "source": [
    "### Below are a few examples of evaluating arithmetic expressions in Python.\n"
   ]
  },
  {
   "cell_type": "code",
   "id": "78888f2e-5c17-4eb1-9e33-2c65d3b7744d",
   "metadata": {
    "jupyter": {
     "is_executing": true
    }
   },
   "source": [
    "# This is a simple arithmetic expression to multiply then add integers.\n",
    "(3 * 4) + 5\n"
   ],
   "outputs": [],
   "execution_count": null
  },
  {
   "cell_type": "code",
   "execution_count": 5,
   "id": "8f973ec9-e19d-46be-bed8-bd2d4b01a27f",
   "metadata": {},
   "outputs": [
    {
     "data": {
      "text/plain": [
       "3.3333333333333335"
      ]
     },
     "execution_count": 5,
     "metadata": {},
     "output_type": "execute_result"
    }
   ],
   "source": [
    "# This will convert 200 minutes to hours by dividing by 60.\n",
    "200 / 60\n"
   ]
  },
  {
   "cell_type": "markdown",
   "id": "586bd940-2b2e-4fb2-ad11-1d31fae61ad0",
   "metadata": {},
   "source": [
    "### Below are a few examples of evaluating arithmetic expressions in Python.\n",
    "\n",
    "**Objectives:**\n",
    "- List popular languages for Data Science\n",
    "- List commonly used libraries in Data Science\n",
    "- Create a table of Data Science tools\n",
    "- Evaluate arithmetic expressions in Python\n",
    "- Convert minutes to hours in Python\n"
   ]
  },
  {
   "cell_type": "markdown",
   "id": "3f0864af-7e20-487a-9290-4a055dda96ec",
   "metadata": {},
   "source": [
    "## Author:\n",
    "\n",
    " Tonmoy Rashid\n"
   ]
  },
  {
   "cell_type": "code",
   "execution_count": null,
   "id": "ab73e297-321d-42ec-8463-0685cd1090bc",
   "metadata": {},
   "outputs": [],
   "source": []
  },
  {
   "metadata": {},
   "cell_type": "markdown",
   "source": "",
   "id": "95caf82447a9bab3"
  },
  {
   "metadata": {},
   "cell_type": "markdown",
   "source": "",
   "id": "8c9cf4f8cdf78aa8"
  }
 ],
 "metadata": {
  "kernelspec": {
   "display_name": "Python 3 (ipykernel)",
   "language": "python",
   "name": "python3"
  },
  "language_info": {
   "codemirror_mode": {
    "name": "ipython",
    "version": 3
   },
   "file_extension": ".py",
   "mimetype": "text/x-python",
   "name": "python",
   "nbconvert_exporter": "python",
   "pygments_lexer": "ipython3",
   "version": "3.11.9"
  }
 },
 "nbformat": 4,
 "nbformat_minor": 5
}
